{
 "cells": [
  {
   "cell_type": "code",
   "execution_count": 59,
   "metadata": {},
   "outputs": [],
   "source": [
    "from splinter import Browser\n",
    "from selenium import webdriver\n",
    "from selenium.webdriver.common.keys import Keys\n",
    "from bs4 import BeautifulSoup\n",
    "import pandas as pd\n",
    "import requests\n",
    "import os\n"
   ]
  },
  {
   "cell_type": "code",
   "execution_count": 60,
   "metadata": {},
   "outputs": [],
   "source": [
    "executable_path = {'executable_path': 'chromedriver.exe'}\n",
    "browser = Browser('chrome', **executable_path, headless=False)"
   ]
  },
  {
   "cell_type": "code",
   "execution_count": 61,
   "metadata": {},
   "outputs": [],
   "source": [
    "url = 'https://gregslist.com/phoenix'\n",
    "browser.visit(url)"
   ]
  },
  {
   "cell_type": "code",
   "execution_count": 62,
   "metadata": {},
   "outputs": [],
   "source": [
    "html = browser.html\n",
    "soup = BeautifulSoup(html, 'lxml')\n",
    "companies = soup.find_all('div', class_='list_text')\n",
    "    "
   ]
  },
  {
   "cell_type": "code",
   "execution_count": 63,
   "metadata": {},
   "outputs": [
    {
     "name": "stdout",
     "output_type": "stream",
     "text": [
      "<div class=\"company-listing\">\n",
      "<div class=\"row align-items-center\">\n",
      "<div class=\"col-md-3 company-logo-column\">\n",
      "<a href=\"http://www.1stproviderschoice.com/\" target=\"_blank\" title=\"View Website\">1st Providers Choice</a>\n",
      "</div>\n",
      "<div class=\"col-md-7 company-details-column\">\n",
      "<span class=\"detail\">Electronic medical records and practice management software</span><span class=\"detail\"><a href=\"https://www.linkedin.com/in/jason-keele-30341410/\" target=\"_blank\">Jason Keele</a> - CEO</span><span class=\"detail\"><a href=\"https://gregslist.com/phoenix/software-companies-city/chandler/\" rel=\"tag\">Chandler</a>, <a href=\"https://gregslist.com/phoenix/software-companies-number-of-employees/11-50/\" rel=\"tag\">11-50</a> employees, founded in 1989, <a href=\"https://gregslist.com/phoenix/software-companies-funding/self-funded/\" rel=\"tag\">Self-funded</a></span><span class=\"detail\"><a href=\"https://gregslist.com/phoenix/software-companies-type/b2b-saas/\" rel=\"tag\">B2B SaaS</a>, <a href=\"https://gregslist.com/phoenix/software-companies-category/practice-management/\" rel=\"tag\">Practice Management</a>, <a href=\"https://gregslist.com/phoenix/software-companies-industry/healthcare/\" rel=\"tag\">Healthcare</a>, <a href=\"https://gregslist.com/phoenix/software-companies-remote-office/local-hq/\" rel=\"tag\">Local HQ</a></span>\n",
      "</div>\n",
      "<div class=\"col-md-2 company-links-column\">\n",
      "<a href=\"http://www.1stproviderschoice.com/\" target=\"_blank\"><i class=\"icon icon-globe\" title=\"View Website\"></i></a> <a href=\"https://www.linkedin.com/company/1st-providers-choice/about/\" target=\"_blank\"><i class=\"icon icon-linkedin\" title=\"View Linkedin\"></i></a> <a href=\"https://1stproviderschoice.com/contact-us/careers.php\" target=\"_blank\"><i class=\"icon icon-briefcase\" title=\"View Jobs\"></i></a> <a href=\"\" rel=\"nofollow\" target=\"_blank\"><i class=\"icon icon-pin\" title=\"View Map\"></i></a>\n",
      "</div>\n",
      "</div>\n",
      "</div>\n"
     ]
    }
   ],
   "source": [
    "# companies = soup.find_all('section', id='company-list')\n",
    "# print(companies)\n",
    "\n",
    "company_listings=soup.find_all('div',class_='company-listing')\n",
    "print(company_listings[0])"
   ]
  },
  {
   "cell_type": "code",
   "execution_count": 64,
   "metadata": {},
   "outputs": [],
   "source": [
    "software=[]\n",
    "\n",
    "for company in company_listings:\n",
    "    title=company.find('a').text.strip()\n",
    "    #website = company.find['href']\n",
    "    detail=company.find('span',class_='detail')\n",
    "    website = company.a['href']\n",
    "    \n",
    "    if detail:\n",
    "        detail=detail.text.strip()\n",
    "    else:\n",
    "        detail = 'None'\n",
    "    \n",
    "\n",
    "    software.append({\n",
    "        'Company':title,\n",
    "        'Detail':detail,\n",
    "        'Website':website,\n",
    "        \n",
    "    })   \n",
    "    \n",
    "# print(software)\n",
    "    #print(detail)\n",
    "    #print(title)\n",
    "software_df=pd.DataFrame(software)\n",
    "software_df.to_csv(\"Software.csv\", index=False, header=True)"
   ]
  },
  {
   "cell_type": "code",
   "execution_count": null,
   "metadata": {},
   "outputs": [],
   "source": [
    "# Loop through returned results\n",
    "# Error handling\n",
    "    \n",
    "#title = [x.text.strip() for x in soup.find_all('div',class_='col-md-3 company-logo-column')]\n",
    "#detail=[xe.text.strip()for xe in soup.find_all('span',class_='detail')]\n",
    "#website=[x.text.strip()for x in soup.find_all('a',[href]]\n",
    "                                              \n",
    "#linkedin\n",
    "#print(title)\n",
    "#print(detail)\n",
    "            \n"
   ]
  }
 ],
 "metadata": {
  "kernelspec": {
   "display_name": "Python 3",
   "language": "python",
   "name": "python3"
  },
  "language_info": {
   "codemirror_mode": {
    "name": "ipython",
    "version": 3
   },
   "file_extension": ".py",
   "mimetype": "text/x-python",
   "name": "python",
   "nbconvert_exporter": "python",
   "pygments_lexer": "ipython3",
   "version": "3.7.4"
  }
 },
 "nbformat": 4,
 "nbformat_minor": 2
}
