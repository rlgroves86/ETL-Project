{
 "cells": [
  {
   "cell_type": "code",
   "execution_count": 109,
   "metadata": {},
   "outputs": [],
   "source": [
    "from splinter import Browser\n",
    "from selenium import webdriver\n",
    "from selenium.webdriver.common.keys import Keys\n",
    "from bs4 import BeautifulSoup\n",
    "import pandas as pd\n",
    "import requests\n",
    "import os\n"
   ]
  },
  {
   "cell_type": "code",
   "execution_count": 110,
   "metadata": {},
   "outputs": [],
   "source": [
    "executable_path = {'executable_path': 'chromedriver.exe'}\n",
    "browser = Browser('chrome', **executable_path, headless=False)"
   ]
  },
  {
   "cell_type": "code",
   "execution_count": 111,
   "metadata": {},
   "outputs": [],
   "source": [
    "url = 'https://gregslist.com/phoenix'\n",
    "browser.visit(url)"
   ]
  },
  {
   "cell_type": "code",
   "execution_count": 112,
   "metadata": {},
   "outputs": [],
   "source": [
    "html = browser.html\n",
    "soup = BeautifulSoup(html, 'lxml')\n",
    "companies = soup.find_all('div', class_='list_text')\n",
    "    "
   ]
  },
  {
   "cell_type": "code",
   "execution_count": 113,
   "metadata": {},
   "outputs": [
    {
     "name": "stdout",
     "output_type": "stream",
     "text": [
      "<div class=\"company-listing\">\n",
      "<div class=\"row align-items-center\">\n",
      "<div class=\"col-md-3 company-logo-column\">\n",
      "<a href=\"http://www.1stproviderschoice.com/\" target=\"_blank\" title=\"View Website\">1st Providers Choice</a>\n",
      "</div>\n",
      "<div class=\"col-md-7 company-details-column\">\n",
      "<span class=\"detail\">Electronic medical records and practice management software</span><span class=\"detail\"><a href=\"https://www.linkedin.com/in/jason-keele-30341410/\" target=\"_blank\">Jason Keele</a> - CEO</span><span class=\"detail\"><a href=\"https://gregslist.com/phoenix/software-companies-city/chandler/\" rel=\"tag\">Chandler</a>, <a href=\"https://gregslist.com/phoenix/software-companies-number-of-employees/11-50/\" rel=\"tag\">11-50</a> employees, founded in 1989, <a href=\"https://gregslist.com/phoenix/software-companies-funding/self-funded/\" rel=\"tag\">Self-funded</a></span><span class=\"detail\"><a href=\"https://gregslist.com/phoenix/software-companies-type/b2b-saas/\" rel=\"tag\">B2B SaaS</a>, <a href=\"https://gregslist.com/phoenix/software-companies-category/practice-management/\" rel=\"tag\">Practice Management</a>, <a href=\"https://gregslist.com/phoenix/software-companies-industry/healthcare/\" rel=\"tag\">Healthcare</a>, <a href=\"https://gregslist.com/phoenix/software-companies-remote-office/local-hq/\" rel=\"tag\">Local HQ</a></span>\n",
      "</div>\n",
      "<div class=\"col-md-2 company-links-column\">\n",
      "<a href=\"http://www.1stproviderschoice.com/\" target=\"_blank\"><i class=\"icon icon-globe\" title=\"View Website\"></i></a> <a href=\"https://www.linkedin.com/company/1st-providers-choice/about/\" target=\"_blank\"><i class=\"icon icon-linkedin\" title=\"View Linkedin\"></i></a> <a href=\"https://1stproviderschoice.com/contact-us/careers.php\" target=\"_blank\"><i class=\"icon icon-briefcase\" title=\"View Jobs\"></i></a> <a href=\"\" rel=\"nofollow\" target=\"_blank\"><i class=\"icon icon-pin\" title=\"View Map\"></i></a>\n",
      "</div>\n",
      "</div>\n",
      "</div>\n"
     ]
    }
   ],
   "source": [
    "# companies = soup.find_all('section', id='company-list')\n",
    "# print(companies)\n",
    "\n",
    "company_listings=soup.find_all('div',class_='company-listing')\n",
    "print(company_listings[0])"
   ]
  },
  {
   "cell_type": "code",
   "execution_count": 119,
   "metadata": {},
   "outputs": [],
   "source": [
    "software=[]\n",
    "\n",
    "for company in company_listings:\n",
    "    title=company.find('a').text.strip()\n",
    "    #website = company.find['href']\n",
    "    detail=company.find('span',class_='detail')\n",
    "    website = company.a['href']\n",
    "    \n",
    "    if detail:\n",
    "        detail=detail.text.strip()\n",
    "    else:\n",
    "        detail = 'Advert'\n",
    "    \n",
    "\n",
    "    software.append({\n",
    "        'Company':title,\n",
    "        'Detail':detail,\n",
    "        'Website':website,\n",
    "        \n",
    "    })   \n",
    "    \n",
    "# print(software)\n",
    "    #print(detail)\n",
    "    #print(title)\n",
    "software_df1.dropna()    \n",
    "software_df1=pd.DataFrame(software)\n",
    "software_df2=software_df1.dropna()\n",
    "#software_df2\n",
    "software_df2.to_csv(\"Software1.csv\", index=False, header=True)"
   ]
  },
  {
   "cell_type": "code",
   "execution_count": 67,
   "metadata": {},
   "outputs": [
    {
     "data": {
      "text/html": [
       "<div>\n",
       "<style scoped>\n",
       "    .dataframe tbody tr th:only-of-type {\n",
       "        vertical-align: middle;\n",
       "    }\n",
       "\n",
       "    .dataframe tbody tr th {\n",
       "        vertical-align: top;\n",
       "    }\n",
       "\n",
       "    .dataframe thead th {\n",
       "        text-align: right;\n",
       "    }\n",
       "</style>\n",
       "<table border=\"1\" class=\"dataframe\">\n",
       "  <thead>\n",
       "    <tr style=\"text-align: right;\">\n",
       "      <th></th>\n",
       "      <th>Company</th>\n",
       "      <th>Detail</th>\n",
       "      <th>Website</th>\n",
       "    </tr>\n",
       "  </thead>\n",
       "  <tbody>\n",
       "    <tr>\n",
       "      <td>0</td>\n",
       "      <td>Act-on</td>\n",
       "      <td>Marketing automation for mid-sized companies</td>\n",
       "      <td>https://www.act-on.com/</td>\n",
       "    </tr>\n",
       "    <tr>\n",
       "      <td>1</td>\n",
       "      <td>Alert GPS</td>\n",
       "      <td>GPS enabled wearable device with automatic ale...</td>\n",
       "      <td>http://alertgps.com/</td>\n",
       "    </tr>\n",
       "    <tr>\n",
       "      <td>2</td>\n",
       "      <td>Aspen Systems</td>\n",
       "      <td>Financial management software for food industry</td>\n",
       "      <td>http://www.aspen-systems.com</td>\n",
       "    </tr>\n",
       "    <tr>\n",
       "      <td>3</td>\n",
       "      <td>assisTek</td>\n",
       "      <td>Mobile patient records for clinical trial asse...</td>\n",
       "      <td>http://www.assistek.com/</td>\n",
       "    </tr>\n",
       "    <tr>\n",
       "      <td>4</td>\n",
       "      <td>Atlas AI</td>\n",
       "      <td>Open source marketing AI and customer analysis...</td>\n",
       "      <td>https://askatlas.ai/</td>\n",
       "    </tr>\n",
       "  </tbody>\n",
       "</table>\n",
       "</div>"
      ],
      "text/plain": [
       "         Company                                             Detail  \\\n",
       "0         Act-on       Marketing automation for mid-sized companies   \n",
       "1      Alert GPS  GPS enabled wearable device with automatic ale...   \n",
       "2  Aspen Systems    Financial management software for food industry   \n",
       "3       assisTek  Mobile patient records for clinical trial asse...   \n",
       "4       Atlas AI  Open source marketing AI and customer analysis...   \n",
       "\n",
       "                        Website  \n",
       "0       https://www.act-on.com/  \n",
       "1          http://alertgps.com/  \n",
       "2  http://www.aspen-systems.com  \n",
       "3      http://www.assistek.com/  \n",
       "4          https://askatlas.ai/  "
      ]
     },
     "execution_count": 67,
     "metadata": {},
     "output_type": "execute_result"
    }
   ],
   "source": [
    "# Loop through returned results\n",
    "# Error handling\n",
    "    \n",
    "#title = [x.text.strip() for x in soup.find_all('div',class_='col-md-3 company-logo-column')]\n",
    "#detail=[xe.text.strip()for xe in soup.find_all('span',class_='detail')]\n",
    "                                              \n",
    "#linkedin\n",
    "#print(title)\n",
    "#print(detail)\n",
    "            \n",
    "    \n",
    "# HERE IS the Women_CEO DF      \n",
    "\n",
    "    \n",
    "csv_file = \"women_ceo.csv\"\n",
    "woman_ceo_df = pd.read_csv(csv_file)\n",
    "woman_ceo_df.head()"
   ]
  },
  {
   "cell_type": "code",
   "execution_count": 121,
   "metadata": {},
   "outputs": [],
   "source": [
    "PHXtechcompanies= pd.merge(woman_ceo_df, software_df2, how='outer')\n",
    "\n",
    "PHXtechcompanies101= PHXtechcompanies.dropna()\n",
    "\n",
    "PHXtechcompanies101.to_csv(\"phxtechcompanies.csv\", index=False, header=True)"
   ]
  },
  {
   "cell_type": "code",
   "execution_count": null,
   "metadata": {},
   "outputs": [],
   "source": []
  }
 ],
 "metadata": {
  "kernelspec": {
   "display_name": "Python 3",
   "language": "python",
   "name": "python3"
  },
  "language_info": {
   "codemirror_mode": {
    "name": "ipython",
    "version": 3
   },
   "file_extension": ".py",
   "mimetype": "text/x-python",
   "name": "python",
   "nbconvert_exporter": "python",
   "pygments_lexer": "ipython3",
   "version": "3.7.4"
  }
 },
 "nbformat": 4,
 "nbformat_minor": 2
}
